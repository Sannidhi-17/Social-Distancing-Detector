{
 "cells": [
  {
   "cell_type": "code",
   "execution_count": 1,
   "metadata": {},
   "outputs": [],
   "source": [
    "import numpy as np\n",
    "import time\n",
    "import cv2\n",
    "import math"
   ]
  },
  {
   "cell_type": "code",
   "execution_count": 2,
   "metadata": {},
   "outputs": [
    {
     "data": {
      "text/plain": [
       "['person',\n",
       " 'bicycle',\n",
       " 'car',\n",
       " 'motorcycle',\n",
       " 'airplane',\n",
       " 'bus',\n",
       " 'train',\n",
       " 'truck',\n",
       " 'boat',\n",
       " 'traffic light',\n",
       " 'fire hydrant',\n",
       " 'stop sign',\n",
       " 'parking meter',\n",
       " 'bench',\n",
       " 'bird',\n",
       " 'cat',\n",
       " 'dog',\n",
       " 'horse',\n",
       " 'sheep',\n",
       " 'cow',\n",
       " 'elephant',\n",
       " 'bear',\n",
       " 'zebra',\n",
       " 'giraffe',\n",
       " 'backpack',\n",
       " 'umbrella',\n",
       " 'handbag',\n",
       " 'tie',\n",
       " 'suitcase',\n",
       " 'frisbee',\n",
       " 'skis',\n",
       " 'snowboard',\n",
       " 'sports ball',\n",
       " 'kite',\n",
       " 'baseball bat',\n",
       " 'baseball glove',\n",
       " 'skateboard',\n",
       " 'surfboard',\n",
       " 'tennis racket',\n",
       " 'bottle',\n",
       " 'wine glass',\n",
       " 'cup',\n",
       " 'fork',\n",
       " 'knife',\n",
       " 'spoon',\n",
       " 'bowl',\n",
       " 'banana',\n",
       " 'apple',\n",
       " 'sandwich',\n",
       " 'orange',\n",
       " 'broccoli',\n",
       " 'carrot',\n",
       " 'hot dog',\n",
       " 'pizza',\n",
       " 'donut',\n",
       " 'cake',\n",
       " 'chair',\n",
       " 'couch',\n",
       " 'potted plant',\n",
       " 'bed',\n",
       " 'dining table',\n",
       " 'toilet',\n",
       " 'tv',\n",
       " 'laptop',\n",
       " 'mouse',\n",
       " 'remote',\n",
       " 'keyboard',\n",
       " 'cell phone',\n",
       " 'microwave',\n",
       " 'oven',\n",
       " 'toaster',\n",
       " 'sink',\n",
       " 'refrigerator',\n",
       " 'book',\n",
       " 'clock',\n",
       " 'vase',\n",
       " 'scissors',\n",
       " 'teddy bear',\n",
       " 'hair drier',\n",
       " 'toothbrush']"
      ]
     },
     "execution_count": 2,
     "metadata": {},
     "output_type": "execute_result"
    }
   ],
   "source": [
    "labelsPath = \"./coco.names\"\n",
    "LABELS = open(labelsPath).read().strip().split(\"\\n\")\n",
    "LABELS"
   ]
  },
  {
   "cell_type": "code",
   "execution_count": 3,
   "metadata": {},
   "outputs": [
    {
     "data": {
      "text/plain": [
       "array([[102, 220, 225],\n",
       "       [ 95, 179,  61],\n",
       "       [234, 203,  92],\n",
       "       [  3,  98, 243],\n",
       "       [ 14, 149, 245],\n",
       "       [ 46, 106, 244],\n",
       "       [ 99, 187,  71],\n",
       "       [212, 153, 199],\n",
       "       [188, 174,  65],\n",
       "       [153,  20,  44],\n",
       "       [203, 152, 102],\n",
       "       [214, 240,  39],\n",
       "       [121,  24,  34],\n",
       "       [114, 210,  65],\n",
       "       [239,  39, 214],\n",
       "       [244, 151,  25],\n",
       "       [ 74, 145, 222],\n",
       "       [ 14, 202,  85],\n",
       "       [145, 117,  87],\n",
       "       [184, 189, 221],\n",
       "       [116, 237, 109],\n",
       "       [ 85,  99, 172],\n",
       "       [226, 153, 103],\n",
       "       [235, 146,  36],\n",
       "       [151,  62,  68],\n",
       "       [181, 130, 160],\n",
       "       [160, 166, 149],\n",
       "       [  6,  69,   5],\n",
       "       [ 52, 253, 112],\n",
       "       [ 14,   1,   3],\n",
       "       [ 76, 248,  87],\n",
       "       [233, 212, 184],\n",
       "       [235, 245,  26],\n",
       "       [213, 157, 253],\n",
       "       [ 68, 240,  37],\n",
       "       [219,  91,  54],\n",
       "       [129,   9,  51],\n",
       "       [  0, 191,  20],\n",
       "       [140,  46, 187],\n",
       "       [147,   1, 254],\n",
       "       [ 20, 153, 243],\n",
       "       [ 46, 160,  68],\n",
       "       [ 19, 158, 203],\n",
       "       [209, 226,  77],\n",
       "       [ 57,  77, 149],\n",
       "       [156,  21, 112],\n",
       "       [ 86, 134, 252],\n",
       "       [ 24, 207,   1],\n",
       "       [235, 242, 147],\n",
       "       [110,  88, 107],\n",
       "       [231,   5,  48],\n",
       "       [254, 141,  74],\n",
       "       [218, 161,  87],\n",
       "       [134,  58, 100],\n",
       "       [162, 156, 254],\n",
       "       [ 73,  93, 102],\n",
       "       [169, 222, 181],\n",
       "       [ 35,  71, 242],\n",
       "       [ 11, 219, 253],\n",
       "       [201,  74, 187],\n",
       "       [ 10,  72, 249],\n",
       "       [207, 227, 201],\n",
       "       [ 93,  14, 231],\n",
       "       [150,  59, 189],\n",
       "       [  0, 193, 116],\n",
       "       [189, 251,  49],\n",
       "       [ 23, 174,  74],\n",
       "       [  1, 201, 189],\n",
       "       [139,  78, 158],\n",
       "       [ 50, 210,  29],\n",
       "       [ 51, 107,   7],\n",
       "       [233,  97,  54],\n",
       "       [222, 164, 131],\n",
       "       [243,   4, 181],\n",
       "       [251,  63, 123],\n",
       "       [168, 151, 248],\n",
       "       [197, 125, 119],\n",
       "       [130,  44, 228],\n",
       "       [ 11, 228,  13],\n",
       "       [ 37, 220,  50]], dtype=uint8)"
      ]
     },
     "execution_count": 3,
     "metadata": {},
     "output_type": "execute_result"
    }
   ],
   "source": [
    "np.random.seed(42)\n",
    "COLORS = np.random.randint(0, 255, size = (len(LABELS), 3), dtype = 'uint8')\n",
    "COLORS"
   ]
  },
  {
   "cell_type": "code",
   "execution_count": 4,
   "metadata": {},
   "outputs": [],
   "source": [
    "weightsPath = \"./yolov3.weights\"\n",
    "configPath = \"./yolov3.cfg\" "
   ]
  },
  {
   "cell_type": "code",
   "execution_count": 5,
   "metadata": {},
   "outputs": [
    {
     "data": {
      "text/plain": [
       "<dnn_Net 000001513F504710>"
      ]
     },
     "execution_count": 5,
     "metadata": {},
     "output_type": "execute_result"
    }
   ],
   "source": [
    "net = cv2.dnn.readNetFromDarknet(configPath, weightsPath)\n",
    "net"
   ]
  },
  {
   "cell_type": "code",
   "execution_count": 6,
   "metadata": {},
   "outputs": [
    {
     "data": {
      "text/plain": [
       "array([[[141, 136, 133],\n",
       "        [141, 136, 133],\n",
       "        [141, 136, 133],\n",
       "        ...,\n",
       "        [169, 165, 170],\n",
       "        [169, 165, 170],\n",
       "        [168, 164, 169]],\n",
       "\n",
       "       [[142, 137, 134],\n",
       "        [142, 137, 134],\n",
       "        [142, 137, 134],\n",
       "        ...,\n",
       "        [171, 167, 172],\n",
       "        [170, 166, 171],\n",
       "        [170, 166, 171]],\n",
       "\n",
       "       [[142, 137, 134],\n",
       "        [142, 137, 134],\n",
       "        [142, 137, 134],\n",
       "        ...,\n",
       "        [174, 170, 176],\n",
       "        [173, 169, 175],\n",
       "        [173, 169, 175]],\n",
       "\n",
       "       ...,\n",
       "\n",
       "       [[ 60,  54,  73],\n",
       "        [ 64,  58,  77],\n",
       "        [ 65,  59,  78],\n",
       "        ...,\n",
       "        [ 85,  76, 103],\n",
       "        [ 86,  77, 104],\n",
       "        [ 87,  78, 105]],\n",
       "\n",
       "       [[ 65,  56,  76],\n",
       "        [ 65,  56,  76],\n",
       "        [ 65,  56,  76],\n",
       "        ...,\n",
       "        [ 87,  78, 104],\n",
       "        [ 87,  78, 104],\n",
       "        [ 86,  77, 103]],\n",
       "\n",
       "       [[ 65,  56,  76],\n",
       "        [ 65,  56,  76],\n",
       "        [ 65,  56,  76],\n",
       "        ...,\n",
       "        [ 87,  78, 104],\n",
       "        [ 87,  78, 104],\n",
       "        [ 86,  77, 103]]], dtype=uint8)"
      ]
     },
     "execution_count": 6,
     "metadata": {},
     "output_type": "execute_result"
    }
   ],
   "source": [
    "image = cv2.imread('./images/test_image.jpg')\n",
    "image"
   ]
  },
  {
   "cell_type": "code",
   "execution_count": 7,
   "metadata": {},
   "outputs": [
    {
     "name": "stdout",
     "output_type": "stream",
     "text": [
      "Frame Prediction Time : 1.827865 seconds\n"
     ]
    }
   ],
   "source": [
    "(H, W) = image.shape[:2]\n",
    "ln = net.getLayerNames()\n",
    "ln = [ln[i[0]- 1] for i in net.getUnconnectedOutLayers()]\n",
    "\n",
    "\n",
    "blob = cv2.dnn.blobFromImage(image, 1/255.0, (416, 416), swapRB = True, crop = False)\n",
    "net.setInput(blob)\n",
    "start = time.time()\n",
    "layerOutputs = net.forward(ln)\n",
    "end = time.time()\n",
    "\n",
    "print(\"Frame Prediction Time : {:.6f} seconds\".format(end - start))"
   ]
  },
  {
   "cell_type": "code",
   "execution_count": 8,
   "metadata": {},
   "outputs": [],
   "source": [
    "boxes = []\n",
    "confidences = []\n",
    "classIDs = []\n",
    "\n",
    "for output in layerOutputs:\n",
    "    for detection in output:\n",
    "        scores = detection[5:]\n",
    "        classID = np.argmax(scores)\n",
    "        confidence = scores[classID]\n",
    "        if confidence > 0.5 and classID == 0:\n",
    "            box = detection[0:4] * np.array([W, H, W, H])\n",
    "            (centerX, centerY, width, height) = box.astype(\"int\")\n",
    "            x = int(centerX - (width / 2))\n",
    "            y = int(centerY - (height / 2))\n",
    "            boxes.append([x, y, int(width), int(height)])\n",
    "            confidences.append(float(confidence))\n",
    "            classIDs.append(classID)\n",
    "        "
   ]
  },
  {
   "cell_type": "code",
   "execution_count": 9,
   "metadata": {},
   "outputs": [
    {
     "data": {
      "text/plain": [
       "array([[ 0],\n",
       "       [ 3],\n",
       "       [ 6],\n",
       "       [ 4],\n",
       "       [ 7],\n",
       "       [10],\n",
       "       [ 5],\n",
       "       [ 9],\n",
       "       [ 1],\n",
       "       [ 8],\n",
       "       [ 2]], dtype=int32)"
      ]
     },
     "execution_count": 9,
     "metadata": {},
     "output_type": "execute_result"
    }
   ],
   "source": [
    "idxs = cv2.dnn.NMSBoxes(boxes, confidences, 0.5, 0.3)\n",
    "ind = []\n",
    "idxs"
   ]
  },
  {
   "cell_type": "code",
   "execution_count": 10,
   "metadata": {},
   "outputs": [
    {
     "data": {
      "text/plain": [
       "[0, 1, 2, 3, 4, 5, 6, 7, 8, 9, 10]"
      ]
     },
     "execution_count": 10,
     "metadata": {},
     "output_type": "execute_result"
    }
   ],
   "source": [
    "for i in range (0, len(classIDs)):\n",
    "    if(classIDs[i] == 0):\n",
    "        ind.append(i)\n",
    "        \n",
    "ind"
   ]
  },
  {
   "cell_type": "code",
   "execution_count": 11,
   "metadata": {},
   "outputs": [],
   "source": [
    "a = []\n",
    "b = []\n",
    "\n",
    "color = (0, 255, 0)\n",
    "if len(idxs) > 0:\n",
    "    for i in idxs.flatten():\n",
    "        (x, y) = (boxes[i][0], boxes[i][1])\n",
    "        (w, h) = (boxes[i][2], boxes[i][3])\n",
    "        a.append(x)\n",
    "        b.append(y)\n",
    "        cv2.rectangle(image, (x, y), (x + w, y + h), color, 2)"
   ]
  },
  {
   "cell_type": "code",
   "execution_count": 12,
   "metadata": {},
   "outputs": [
    {
     "data": {
      "text/plain": [
       "[3, 1, 4, 2, 6, 7, 5, 8, 9]"
      ]
     },
     "execution_count": 12,
     "metadata": {},
     "output_type": "execute_result"
    }
   ],
   "source": [
    "distance = []\n",
    "nsd = []\n",
    "\n",
    "for i in range(0, len(a) -1 ):\n",
    "    for k in range(1, len(a)):\n",
    "        if (k == i):\n",
    "            break\n",
    "        else:\n",
    "            x_dist = (a[k] - a[i])\n",
    "            y_dist = (b[k] - b[i])\n",
    "            d = math.sqrt(x_dist * x_dist  + y_dist * y_dist)\n",
    "            distance.append(d)\n",
    "            if (d < 100.0):\n",
    "                nsd.append(i)\n",
    "                nsd.append(k)\n",
    "            nsd = list(dict.fromkeys(nsd))\n",
    "            \n",
    "nsd"
   ]
  },
  {
   "cell_type": "code",
   "execution_count": 13,
   "metadata": {},
   "outputs": [],
   "source": [
    "color = (0, 0, 255)\n",
    "text = \"\"\n",
    "\n",
    "for i in nsd:\n",
    "    (x, y) = (boxes[i][0], boxes[i][1])\n",
    "    (w, h) = (boxes[i][2], boxes[i][3])\n",
    "    cv2.rectangle(image, (x, y), (x + w, y + h), color, 2)\n",
    "    text = \"Alert\"\n",
    "    cv2.putText(image, text, (x, y-5), cv2.FONT_HERSHEY_SIMPLEX,0.5, color, 2)"
   ]
  },
  {
   "cell_type": "code",
   "execution_count": 14,
   "metadata": {},
   "outputs": [
    {
     "data": {
      "text/plain": [
       "-1"
      ]
     },
     "execution_count": 14,
     "metadata": {},
     "output_type": "execute_result"
    }
   ],
   "source": [
    "cv2.putText(image, text, (x, y-5), cv2.FONT_HERSHEY_SIMPLEX,0.5, color, 2)\n",
    "cv2.imshow(\"Social Distancing Detector\", image)\n",
    "cv2.imwrite(\"output.jpg\", image)\n",
    "cv2.waitKey()"
   ]
  }
 ],
 "metadata": {
  "kernelspec": {
   "display_name": "Python 3",
   "language": "python",
   "name": "python3"
  },
  "language_info": {
   "codemirror_mode": {
    "name": "ipython",
    "version": 3
   },
   "file_extension": ".py",
   "mimetype": "text/x-python",
   "name": "python",
   "nbconvert_exporter": "python",
   "pygments_lexer": "ipython3",
   "version": "3.7.7"
  }
 },
 "nbformat": 4,
 "nbformat_minor": 4
}
